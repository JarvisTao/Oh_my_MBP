{
 "cells": [
  {
   "cell_type": "code",
   "execution_count": 3,
   "metadata": {
    "collapsed": true
   },
   "outputs": [],
   "source": [
    "import requests\n",
    "import numpy as np\n",
    "from bs4 import BeautifulSoup\n"
   ]
  },
  {
   "cell_type": "code",
   "execution_count": 4,
   "metadata": {},
   "outputs": [],
   "source": [
    "urlDemo = 'https://www.csdn.net/'\n",
    "r = requests.get(urlDemo)\n",
    "\n",
    "soup = BeautifulSoup(r.text, 'html.parser')\n",
    "content_list = soup.find_all('div', attrs={'class', 'title'})"
   ]
  },
  {
   "cell_type": "code",
   "execution_count": 5,
   "metadata": {},
   "outputs": [
    {
     "data": {
      "text/plain": [
       "bs4.element.ResultSet"
      ]
     },
     "execution_count": 5,
     "metadata": {},
     "output_type": "execute_result"
    }
   ],
   "source": [
    "type(content_list)"
   ]
  },
  {
   "cell_type": "code",
   "execution_count": 7,
   "metadata": {},
   "outputs": [
    {
     "name": "stdout",
     "output_type": "stream",
     "text": [
      "\n                            在大型项目开发上，Python 真是个“烂”语言！                        \n\n                            程序员被老板要求两个月做个app，要不比京东差，网友：辞职吧                        \n\n                            我们成了学校的赚钱机器                        \n\n                            一名6年程序员的工作感悟，写给还在迷茫中的朋友                        \n\n                            如何在面试中介绍自己的项目经验                        \n\n                            Python中pandas dataframe删除一行或一列：drop函数                        \n\n                            python结巴分词                        \n\n                            转——浅谈人工智能：现状、任务、构架与统一                        \n\n                            转-人工智能体系架构                        \n\n                            关于CentOS中KVM处于paused状态,却怎么也改变不了状态的问题解决                        \n"
     ]
    }
   ],
   "source": [
    "for i in range(10):\n",
    "    print(content_list[i].h2.a.text)"
   ]
  },
  {
   "cell_type": "code",
   "execution_count": 11,
   "metadata": {},
   "outputs": [
    {
     "data": {
      "text/plain": [
       "'\\n                            程序员被老板要求两个月做个app，要不比京东差，网友：辞职吧                        '"
      ]
     },
     "execution_count": 11,
     "metadata": {},
     "output_type": "execute_result"
    }
   ],
   "source": [
    "content_list[1].h2.a.text"
   ]
  },
  {
   "cell_type": "code",
   "execution_count": null,
   "metadata": {},
   "outputs": [],
   "source": []
  }
 ],
 "metadata": {
  "kernelspec": {
   "display_name": "Python 2",
   "language": "python",
   "name": "python2"
  },
  "language_info": {
   "codemirror_mode": {
    "name": "ipython",
    "version": 2
   },
   "file_extension": ".py",
   "mimetype": "text/x-python",
   "name": "python",
   "nbconvert_exporter": "python",
   "pygments_lexer": "ipython2",
   "version": "2.7.6"
  }
 },
 "nbformat": 4,
 "nbformat_minor": 0
}
